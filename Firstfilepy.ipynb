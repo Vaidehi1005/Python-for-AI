{
  "nbformat": 4,
  "nbformat_minor": 0,
  "metadata": {
    "colab": {
      "provenance": [],
      "authorship_tag": "ABX9TyN9Wve6KX+mgND00O/XtZbU",
      "include_colab_link": true
    },
    "kernelspec": {
      "name": "python3",
      "display_name": "Python 3"
    },
    "language_info": {
      "name": "python"
    }
  },
  "cells": [
    {
      "cell_type": "markdown",
      "metadata": {
        "id": "view-in-github",
        "colab_type": "text"
      },
      "source": [
        "<a href=\"https://colab.research.google.com/github/Vaidehi1005/Python-for-AI/blob/main/Firstfilepy.ipynb\" target=\"_parent\"><img src=\"https://colab.research.google.com/assets/colab-badge.svg\" alt=\"Open In Colab\"/></a>"
      ]
    },
    {
      "cell_type": "code",
      "execution_count": null,
      "metadata": {
        "colab": {
          "base_uri": "https://localhost:8080/"
        },
        "id": "U_KZ5kVdFP5y",
        "outputId": "2794f380-d5fe-486e-9636-123f5a8fdbf0"
      },
      "outputs": [
        {
          "output_type": "stream",
          "name": "stdout",
          "text": [
            "Python 3.10.12\n"
          ]
        }
      ],
      "source": [
        "!python --version\n",
        "\n"
      ]
    },
    {
      "cell_type": "code",
      "source": [
        "print(\"Hello Friend\")"
      ],
      "metadata": {
        "colab": {
          "base_uri": "https://localhost:8080/"
        },
        "id": "Qwfcy_aAHyqT",
        "outputId": "db0fe995-8bfb-4e1f-e1ed-d515f4ef2295"
      },
      "execution_count": null,
      "outputs": [
        {
          "output_type": "stream",
          "name": "stdout",
          "text": [
            "Hello Friend\n"
          ]
        }
      ]
    },
    {
      "cell_type": "code",
      "source": [
        "from google.colab import drive\n",
        "drive.mount('/gdrive')\n"
      ],
      "metadata": {
        "colab": {
          "base_uri": "https://localhost:8080/"
        },
        "id": "lql36-UTI6Zi",
        "outputId": "90dc7302-5c1d-404f-aba4-b757f70fe0df"
      },
      "execution_count": null,
      "outputs": [
        {
          "output_type": "stream",
          "name": "stdout",
          "text": [
            "Mounted at /gdrive\n"
          ]
        }
      ]
    },
    {
      "cell_type": "code",
      "source": [
        "print(\"Hello\\\\\")"
      ],
      "metadata": {
        "colab": {
          "base_uri": "https://localhost:8080/"
        },
        "id": "C_QMWEssJ7W8",
        "outputId": "a02e6c43-6e8c-4365-8d42-44b89717b52f"
      },
      "execution_count": null,
      "outputs": [
        {
          "output_type": "stream",
          "name": "stdout",
          "text": [
            "Hello\\\n"
          ]
        }
      ]
    },
    {
      "cell_type": "code",
      "source": [
        "print(\"wer\\rVaidu\")\n",
        "\n",
        "\n"
      ],
      "metadata": {
        "colab": {
          "base_uri": "https://localhost:8080/"
        },
        "id": "j51H1I-hKDkY",
        "outputId": "95da1927-efec-4dcc-bc37-c1e98b68fadc"
      },
      "execution_count": null,
      "outputs": [
        {
          "output_type": "stream",
          "name": "stdout",
          "text": [
            "wer\rVaidu\n"
          ]
        }
      ]
    },
    {
      "cell_type": "code",
      "source": [
        "print(\"Hello\\tVaidehi\")"
      ],
      "metadata": {
        "colab": {
          "base_uri": "https://localhost:8080/"
        },
        "id": "2Dr4D5OKL6Hi",
        "outputId": "da7dfb60-10a6-4156-fd63-5d6fb5dffef0"
      },
      "execution_count": null,
      "outputs": [
        {
          "output_type": "stream",
          "name": "stdout",
          "text": [
            "Hello\tVaidehi\n"
          ]
        }
      ]
    },
    {
      "cell_type": "code",
      "source": [
        "print(\"Hello\\nVaidehi\")"
      ],
      "metadata": {
        "colab": {
          "base_uri": "https://localhost:8080/"
        },
        "id": "LHPkdEVsMIFS",
        "outputId": "6c0a0e6b-ff2a-4282-8156-a80029102f96"
      },
      "execution_count": null,
      "outputs": [
        {
          "output_type": "stream",
          "name": "stdout",
          "text": [
            "Hello\n",
            "Vaidehi\n"
          ]
        }
      ]
    },
    {
      "cell_type": "code",
      "source": [
        "print(\"he\\byu\")"
      ],
      "metadata": {
        "colab": {
          "base_uri": "https://localhost:8080/"
        },
        "id": "wXOTRAqsNDhM",
        "outputId": "1f5fdf5c-17f8-4a14-fbc3-58c6f0c2f140"
      },
      "execution_count": null,
      "outputs": [
        {
          "output_type": "stream",
          "name": "stdout",
          "text": [
            "he\byu\n"
          ]
        }
      ]
    },
    {
      "cell_type": "code",
      "source": [
        "c=input()\n",
        "print(type(c))"
      ],
      "metadata": {
        "colab": {
          "base_uri": "https://localhost:8080/"
        },
        "id": "qm5De0K_NXTs",
        "outputId": "02c1eb26-531c-4055-f77f-0335704b9d9f"
      },
      "execution_count": null,
      "outputs": [
        {
          "output_type": "stream",
          "name": "stdout",
          "text": [
            "23\n",
            "<class 'str'>\n"
          ]
        }
      ]
    },
    {
      "cell_type": "code",
      "source": [
        "name=input(\"What is your name:\")\n",
        "print(name*10)"
      ],
      "metadata": {
        "colab": {
          "base_uri": "https://localhost:8080/"
        },
        "id": "MaeeZDvaoVKA",
        "outputId": "cca36deb-541d-4f11-cdd8-788ec5e860f0"
      },
      "execution_count": null,
      "outputs": [
        {
          "output_type": "stream",
          "name": "stdout",
          "text": [
            "What is your name:parthu\n",
            "parthuparthuparthuparthuparthuparthuparthuparthuparthuparthu\n"
          ]
        }
      ]
    },
    {
      "cell_type": "code",
      "source": [
        "num1=int(input())\n",
        "num2=int(input())\n",
        "sum=num1+num2\n",
        "print(sum)\n"
      ],
      "metadata": {
        "colab": {
          "base_uri": "https://localhost:8080/"
        },
        "id": "0tGgGdxFrwlt",
        "outputId": "524b7d91-2435-4c28-f96b-86c0d87e1f28"
      },
      "execution_count": null,
      "outputs": [
        {
          "output_type": "stream",
          "name": "stdout",
          "text": [
            "23\n",
            "45\n",
            "68\n"
          ]
        }
      ]
    },
    {
      "cell_type": "code",
      "source": [
        "#calculate the area of triangle using python\n",
        "x=float(input(\"Enter first side:\"))\n",
        "y=float(input(\"Enter second side:\"))\n",
        "z=float(input(\"Enter third side:\"))\n",
        "print(x*y*z)\n",
        "print(\"Area of triangle is : \",x*y*z)"
      ],
      "metadata": {
        "colab": {
          "base_uri": "https://localhost:8080/"
        },
        "id": "S0S9s8ukuBwG",
        "outputId": "300b86bb-e9cd-49c1-a8ff-de44bea73496"
      },
      "execution_count": null,
      "outputs": [
        {
          "output_type": "stream",
          "name": "stdout",
          "text": [
            "Enter first side:4\n",
            "Enter second side:8\n",
            "Enter third side:10\n",
            "320.0\n",
            "Area of triangle is :  320.0\n"
          ]
        }
      ]
    },
    {
      "cell_type": "code",
      "source": [
        "x=8\n",
        "X=9\n",
        "print(x,X)\n"
      ],
      "metadata": {
        "colab": {
          "base_uri": "https://localhost:8080/"
        },
        "id": "U6QLqfr90JIN",
        "outputId": "09e2fde1-ec4c-4eb1-dd1b-93c0058e2d95"
      },
      "execution_count": null,
      "outputs": [
        {
          "output_type": "stream",
          "name": "stdout",
          "text": [
            "8 9\n"
          ]
        }
      ]
    },
    {
      "cell_type": "code",
      "source": [
        "a=b=c=\"vaidehi\"\n",
        "print(a,b,c)"
      ],
      "metadata": {
        "colab": {
          "base_uri": "https://localhost:8080/"
        },
        "id": "frrUMYpn0lFH",
        "outputId": "699ab075-83fd-4e48-d0e1-90b4e29d0054"
      },
      "execution_count": null,
      "outputs": [
        {
          "output_type": "stream",
          "name": "stdout",
          "text": [
            "vaidehi vaidehi vaidehi\n"
          ]
        }
      ]
    },
    {
      "cell_type": "code",
      "source": [
        "a=\"python\"\n",
        "print(\"I like \" + a)"
      ],
      "metadata": {
        "colab": {
          "base_uri": "https://localhost:8080/"
        },
        "id": "5LH6BLRc1Jmd",
        "outputId": "6f7ebd0b-3de6-4260-a015-d4ab4c1d71a5"
      },
      "execution_count": null,
      "outputs": [
        {
          "output_type": "stream",
          "name": "stdout",
          "text": [
            "I like python\n"
          ]
        }
      ]
    },
    {
      "cell_type": "code",
      "source": [
        "#this is a comment\n",
        "print(\"Hello friend. My name Vaidehi Nayakpura.\")"
      ],
      "metadata": {
        "colab": {
          "base_uri": "https://localhost:8080/"
        },
        "id": "Yt9jtqqZZmKi",
        "outputId": "612a8f5a-48aa-40de-f410-31ccf877d736"
      },
      "execution_count": null,
      "outputs": [
        {
          "output_type": "stream",
          "name": "stdout",
          "text": [
            "Hello friend. My name Vaidehi Nayakpura.\n"
          ]
        }
      ]
    },
    {
      "cell_type": "code",
      "source": [
        "\"\"\"This is a multiple line comment\"\"\"\n",
        "print(\"Hello friend. My name Vaidehi Nayakpura.\")"
      ],
      "metadata": {
        "colab": {
          "base_uri": "https://localhost:8080/"
        },
        "id": "C-TFn8OkaCC_",
        "outputId": "c9c922e6-aa0c-49f6-8114-b73c006acba2"
      },
      "execution_count": null,
      "outputs": [
        {
          "output_type": "stream",
          "name": "stdout",
          "text": [
            "Hello friend. My name Vaidehi Nayakpura.\n"
          ]
        }
      ]
    },
    {
      "cell_type": "code",
      "source": [
        "#single quote\n",
        "print(\"It\\'s alright.\")"
      ],
      "metadata": {
        "colab": {
          "base_uri": "https://localhost:8080/"
        },
        "id": "WqZ-4UM-aZg-",
        "outputId": "1bd48af6-ec59-4ed3-bbeb-06ce9cc9e7da"
      },
      "execution_count": null,
      "outputs": [
        {
          "output_type": "stream",
          "name": "stdout",
          "text": [
            "It's alright.\n"
          ]
        }
      ]
    },
    {
      "cell_type": "code",
      "source": [
        "#backslash mate\n",
        "print(\"C:\\\\Users\\\\Vaidehi\\\\Desktop\\\\Vaidehi\")"
      ],
      "metadata": {
        "colab": {
          "base_uri": "https://localhost:8080/"
        },
        "id": "CJvXhuLFaz4i",
        "outputId": "19ed7b33-c1be-4c91-8de5-2d162e7d7a08"
      },
      "execution_count": null,
      "outputs": [
        {
          "output_type": "stream",
          "name": "stdout",
          "text": [
            "C:\\Users\\Vaidehi\\Desktop\\Vaidehi\n"
          ]
        }
      ]
    },
    {
      "cell_type": "code",
      "source": [
        "#new line ma jase\n",
        "print(\"hello\\nworld\")"
      ],
      "metadata": {
        "colab": {
          "base_uri": "https://localhost:8080/"
        },
        "id": "hxu5_3kvbOB6",
        "outputId": "e8ea2f1e-bd46-410c-b574-52b1bcb5d791"
      },
      "execution_count": null,
      "outputs": [
        {
          "output_type": "stream",
          "name": "stdout",
          "text": [
            "hello\n",
            "world\n"
          ]
        }
      ]
    },
    {
      "cell_type": "code",
      "source": [
        "#remove karse e aagad na word ne\n",
        "print(\"hello\\rworld\")"
      ],
      "metadata": {
        "colab": {
          "base_uri": "https://localhost:8080/"
        },
        "id": "3I5Ubxrsbeur",
        "outputId": "fe8514df-df14-46a1-d6b2-57ba65d365e0"
      },
      "execution_count": null,
      "outputs": [
        {
          "output_type": "stream",
          "name": "stdout",
          "text": [
            "hello\rworld\n"
          ]
        }
      ]
    },
    {
      "cell_type": "code",
      "source": [
        "#tab\n",
        "print(\"hello\\tworld\")"
      ],
      "metadata": {
        "colab": {
          "base_uri": "https://localhost:8080/"
        },
        "id": "jcTPBIBtbwCY",
        "outputId": "f3bfad20-9569-4635-e07a-31120fa0e4ba"
      },
      "execution_count": null,
      "outputs": [
        {
          "output_type": "stream",
          "name": "stdout",
          "text": [
            "hello\tworld\n"
          ]
        }
      ]
    },
    {
      "cell_type": "code",
      "source": [
        "#backspace\n",
        "print(\"hello \\bworld\")"
      ],
      "metadata": {
        "colab": {
          "base_uri": "https://localhost:8080/"
        },
        "id": "GY8NwrYEb0gV",
        "outputId": "7b150009-1fa1-47d4-cb4d-aa0656956f79"
      },
      "execution_count": 4,
      "outputs": [
        {
          "output_type": "stream",
          "name": "stdout",
          "text": [
            "hello \bworld\n"
          ]
        }
      ]
    },
    {
      "cell_type": "code",
      "source": [
        "#form feed\n",
        "print(\"hello\\fWorld\")"
      ],
      "metadata": {
        "colab": {
          "base_uri": "https://localhost:8080/"
        },
        "id": "Nw8Jx-p_caze",
        "outputId": "2a394cbb-24a1-4a4b-a36f-bb845146eb4f"
      },
      "execution_count": null,
      "outputs": [
        {
          "output_type": "stream",
          "name": "stdout",
          "text": [
            "hello\fWorld\n"
          ]
        }
      ]
    },
    {
      "cell_type": "code",
      "source": [
        "#octal values\n",
        "print(\"\\101\\102\\103\\104\")"
      ],
      "metadata": {
        "colab": {
          "base_uri": "https://localhost:8080/"
        },
        "id": "G2mOyskZcw_r",
        "outputId": "f5b8caea-ccec-4968-ac6d-71ffb2631fbb"
      },
      "execution_count": null,
      "outputs": [
        {
          "output_type": "stream",
          "name": "stdout",
          "text": [
            "ABCD\n"
          ]
        }
      ]
    },
    {
      "cell_type": "code",
      "source": [
        "#hexadecimal values\n",
        "print(\"\\x48\\x65\\x6c\\x6c\\x6f\")"
      ],
      "metadata": {
        "colab": {
          "base_uri": "https://localhost:8080/"
        },
        "id": "CCU2mmwYdFgs",
        "outputId": "8726276b-5343-4815-e263-14c3e3eee8da"
      },
      "execution_count": null,
      "outputs": [
        {
          "output_type": "stream",
          "name": "stdout",
          "text": [
            "Hello\n"
          ]
        }
      ]
    },
    {
      "cell_type": "code",
      "source": [
        "var =\"It\\'s really awesome day.\"\n",
        "print(var)"
      ],
      "metadata": {
        "id": "kiE7N9WycTqy",
        "colab": {
          "base_uri": "https://localhost:8080/"
        },
        "outputId": "a48110a9-252f-4b1b-918b-d54391a0ac02"
      },
      "execution_count": 1,
      "outputs": [
        {
          "output_type": "stream",
          "name": "stdout",
          "text": [
            "It's really awesome day.\n"
          ]
        }
      ]
    },
    {
      "cell_type": "code",
      "source": [
        "var = \"This will insert one \\\\ (backslash).\"\n",
        "print(var)"
      ],
      "metadata": {
        "colab": {
          "base_uri": "https://localhost:8080/"
        },
        "id": "tp3iUCaCgvDc",
        "outputId": "cb21a0b6-561a-4d1f-b4db-cb133b7019d0"
      },
      "execution_count": 3,
      "outputs": [
        {
          "output_type": "stream",
          "name": "stdout",
          "text": [
            "This will insert one \\ (backslash).\n"
          ]
        }
      ]
    },
    {
      "cell_type": "code",
      "source": [
        "#a backslash followed by 3 integers will result into a octal value:\n",
        "var = \"\\141\\142\\143\\144\\145\\146\\147\\148\\149\"\n",
        "print(var)"
      ],
      "metadata": {
        "colab": {
          "base_uri": "https://localhost:8080/"
        },
        "id": "IInxQghViJxo",
        "outputId": "1a9d9f93-3af5-4dea-d4a0-f7b95d35b0e2"
      },
      "execution_count": 5,
      "outputs": [
        {
          "output_type": "stream",
          "name": "stdout",
          "text": [
            "abcdefg\f8\f9\n"
          ]
        }
      ]
    },
    {
      "cell_type": "code",
      "source": [
        "#a backslash followed by an x and a hex no represents a hex value\n",
        "var = \"\\x48\\x65\\x6c\\x6c\\x6f\"\n",
        "print(var)"
      ],
      "metadata": {
        "colab": {
          "base_uri": "https://localhost:8080/"
        },
        "id": "tGY9FwHki_f0",
        "outputId": "f64bdb63-4f32-4e95-8c73-9370d9506cfd"
      },
      "execution_count": 6,
      "outputs": [
        {
          "output_type": "stream",
          "name": "stdout",
          "text": [
            "Hello\n"
          ]
        }
      ]
    },
    {
      "cell_type": "code",
      "source": [
        "#take 2 inputs from user and add both\n",
        "num1=input(\"Enter first number: \")\n",
        "num2=input(\"Enter second number: \")\n",
        "result=int(num1)+int(num2)\n",
        "print(result)"
      ],
      "metadata": {
        "colab": {
          "base_uri": "https://localhost:8080/"
        },
        "id": "0qo0geo3lUFC",
        "outputId": "10245b96-7c38-454c-ac76-5cc2bc49cb71"
      },
      "execution_count": 8,
      "outputs": [
        {
          "output_type": "stream",
          "name": "stdout",
          "text": [
            "Enter first number: 3\n",
            "Enter second number: 8\n",
            "11\n"
          ]
        }
      ]
    },
    {
      "cell_type": "code",
      "source": [
        "#Program to add two numbers\n",
        "a=5\n",
        "b=9\n",
        "sum=a+b\n",
        "print(sum)"
      ],
      "metadata": {
        "colab": {
          "base_uri": "https://localhost:8080/"
        },
        "id": "39zQDWV7ocS4",
        "outputId": "1c76b5b9-8e7c-4151-c1d4-4d4f74bc9c11"
      },
      "execution_count": 9,
      "outputs": [
        {
          "output_type": "stream",
          "name": "stdout",
          "text": [
            "14\n"
          ]
        }
      ]
    }
  ]
}