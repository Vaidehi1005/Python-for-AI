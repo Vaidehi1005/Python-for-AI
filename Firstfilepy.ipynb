{
  "nbformat": 4,
  "nbformat_minor": 0,
  "metadata": {
    "colab": {
      "provenance": [],
      "authorship_tag": "ABX9TyMCUJNQCsU+IOk8DurZ5QmA",
      "include_colab_link": true
    },
    "kernelspec": {
      "name": "python3",
      "display_name": "Python 3"
    },
    "language_info": {
      "name": "python"
    }
  },
  "cells": [
    {
      "cell_type": "markdown",
      "metadata": {
        "id": "view-in-github",
        "colab_type": "text"
      },
      "source": [
        "<a href=\"https://colab.research.google.com/github/Vaidehi1005/Python-for-AI/blob/main/Firstfilepy.ipynb\" target=\"_parent\"><img src=\"https://colab.research.google.com/assets/colab-badge.svg\" alt=\"Open In Colab\"/></a>"
      ]
    },
    {
      "cell_type": "code",
      "execution_count": null,
      "metadata": {
        "colab": {
          "base_uri": "https://localhost:8080/"
        },
        "id": "U_KZ5kVdFP5y",
        "outputId": "2794f380-d5fe-486e-9636-123f5a8fdbf0"
      },
      "outputs": [
        {
          "output_type": "stream",
          "name": "stdout",
          "text": [
            "Python 3.10.12\n"
          ]
        }
      ],
      "source": [
        "!python --version\n",
        "\n"
      ]
    },
    {
      "cell_type": "code",
      "source": [
        "print(\"Hello Friend\")"
      ],
      "metadata": {
        "colab": {
          "base_uri": "https://localhost:8080/"
        },
        "id": "Qwfcy_aAHyqT",
        "outputId": "db0fe995-8bfb-4e1f-e1ed-d515f4ef2295"
      },
      "execution_count": null,
      "outputs": [
        {
          "output_type": "stream",
          "name": "stdout",
          "text": [
            "Hello Friend\n"
          ]
        }
      ]
    },
    {
      "cell_type": "code",
      "source": [
        "from google.colab import drive\n",
        "drive.mount('/gdrive')\n"
      ],
      "metadata": {
        "colab": {
          "base_uri": "https://localhost:8080/"
        },
        "id": "lql36-UTI6Zi",
        "outputId": "90dc7302-5c1d-404f-aba4-b757f70fe0df"
      },
      "execution_count": null,
      "outputs": [
        {
          "output_type": "stream",
          "name": "stdout",
          "text": [
            "Mounted at /gdrive\n"
          ]
        }
      ]
    },
    {
      "cell_type": "code",
      "source": [
        "print(\"Hello\\\\\")"
      ],
      "metadata": {
        "colab": {
          "base_uri": "https://localhost:8080/"
        },
        "id": "C_QMWEssJ7W8",
        "outputId": "a02e6c43-6e8c-4365-8d42-44b89717b52f"
      },
      "execution_count": null,
      "outputs": [
        {
          "output_type": "stream",
          "name": "stdout",
          "text": [
            "Hello\\\n"
          ]
        }
      ]
    },
    {
      "cell_type": "code",
      "source": [
        "print(\"wer\\rVaidu\")\n",
        "\n",
        "\n"
      ],
      "metadata": {
        "colab": {
          "base_uri": "https://localhost:8080/"
        },
        "id": "j51H1I-hKDkY",
        "outputId": "95da1927-efec-4dcc-bc37-c1e98b68fadc"
      },
      "execution_count": null,
      "outputs": [
        {
          "output_type": "stream",
          "name": "stdout",
          "text": [
            "wer\rVaidu\n"
          ]
        }
      ]
    },
    {
      "cell_type": "code",
      "source": [
        "print(\"Hello\\tVaidehi\")"
      ],
      "metadata": {
        "colab": {
          "base_uri": "https://localhost:8080/"
        },
        "id": "2Dr4D5OKL6Hi",
        "outputId": "da7dfb60-10a6-4156-fd63-5d6fb5dffef0"
      },
      "execution_count": null,
      "outputs": [
        {
          "output_type": "stream",
          "name": "stdout",
          "text": [
            "Hello\tVaidehi\n"
          ]
        }
      ]
    },
    {
      "cell_type": "code",
      "source": [
        "print(\"Hello\\nVaidehi\")"
      ],
      "metadata": {
        "colab": {
          "base_uri": "https://localhost:8080/"
        },
        "id": "LHPkdEVsMIFS",
        "outputId": "6c0a0e6b-ff2a-4282-8156-a80029102f96"
      },
      "execution_count": null,
      "outputs": [
        {
          "output_type": "stream",
          "name": "stdout",
          "text": [
            "Hello\n",
            "Vaidehi\n"
          ]
        }
      ]
    },
    {
      "cell_type": "code",
      "source": [
        "print(\"he\\byu\")"
      ],
      "metadata": {
        "colab": {
          "base_uri": "https://localhost:8080/"
        },
        "id": "wXOTRAqsNDhM",
        "outputId": "1f5fdf5c-17f8-4a14-fbc3-58c6f0c2f140"
      },
      "execution_count": null,
      "outputs": [
        {
          "output_type": "stream",
          "name": "stdout",
          "text": [
            "he\byu\n"
          ]
        }
      ]
    },
    {
      "cell_type": "code",
      "source": [
        "c=input()\n",
        "print(type(c))"
      ],
      "metadata": {
        "colab": {
          "base_uri": "https://localhost:8080/"
        },
        "id": "qm5De0K_NXTs",
        "outputId": "02c1eb26-531c-4055-f77f-0335704b9d9f"
      },
      "execution_count": null,
      "outputs": [
        {
          "output_type": "stream",
          "name": "stdout",
          "text": [
            "23\n",
            "<class 'str'>\n"
          ]
        }
      ]
    },
    {
      "cell_type": "code",
      "source": [
        "name=input(\"What is your name:\")\n",
        "print(name*10)"
      ],
      "metadata": {
        "colab": {
          "base_uri": "https://localhost:8080/"
        },
        "id": "MaeeZDvaoVKA",
        "outputId": "cca36deb-541d-4f11-cdd8-788ec5e860f0"
      },
      "execution_count": null,
      "outputs": [
        {
          "output_type": "stream",
          "name": "stdout",
          "text": [
            "What is your name:parthu\n",
            "parthuparthuparthuparthuparthuparthuparthuparthuparthuparthu\n"
          ]
        }
      ]
    },
    {
      "cell_type": "code",
      "source": [
        "num1=int(input())\n",
        "num2=int(input())\n",
        "sum=num1+num2\n",
        "print(sum)\n"
      ],
      "metadata": {
        "colab": {
          "base_uri": "https://localhost:8080/"
        },
        "id": "0tGgGdxFrwlt",
        "outputId": "524b7d91-2435-4c28-f96b-86c0d87e1f28"
      },
      "execution_count": null,
      "outputs": [
        {
          "output_type": "stream",
          "name": "stdout",
          "text": [
            "23\n",
            "45\n",
            "68\n"
          ]
        }
      ]
    },
    {
      "cell_type": "code",
      "source": [
        "#calculate the area of triangle using python\n",
        "x=float(input(\"Enter first side:\"))\n",
        "y=float(input(\"Enter second side:\"))\n",
        "z=float(input(\"Enter third side:\"))\n",
        "print(x*y*z)\n",
        "print(\"Area of triangle is : \",x*y*z)"
      ],
      "metadata": {
        "colab": {
          "base_uri": "https://localhost:8080/"
        },
        "id": "S0S9s8ukuBwG",
        "outputId": "300b86bb-e9cd-49c1-a8ff-de44bea73496"
      },
      "execution_count": null,
      "outputs": [
        {
          "output_type": "stream",
          "name": "stdout",
          "text": [
            "Enter first side:4\n",
            "Enter second side:8\n",
            "Enter third side:10\n",
            "320.0\n",
            "Area of triangle is :  320.0\n"
          ]
        }
      ]
    },
    {
      "cell_type": "code",
      "source": [
        "x=8\n",
        "X=9\n",
        "print(x,X)\n"
      ],
      "metadata": {
        "colab": {
          "base_uri": "https://localhost:8080/"
        },
        "id": "U6QLqfr90JIN",
        "outputId": "09e2fde1-ec4c-4eb1-dd1b-93c0058e2d95"
      },
      "execution_count": null,
      "outputs": [
        {
          "output_type": "stream",
          "name": "stdout",
          "text": [
            "8 9\n"
          ]
        }
      ]
    },
    {
      "cell_type": "code",
      "source": [
        "a=b=c=\"vaidehi\"\n",
        "print(a,b,c)"
      ],
      "metadata": {
        "colab": {
          "base_uri": "https://localhost:8080/"
        },
        "id": "frrUMYpn0lFH",
        "outputId": "699ab075-83fd-4e48-d0e1-90b4e29d0054"
      },
      "execution_count": null,
      "outputs": [
        {
          "output_type": "stream",
          "name": "stdout",
          "text": [
            "vaidehi vaidehi vaidehi\n"
          ]
        }
      ]
    },
    {
      "cell_type": "code",
      "source": [
        "a=\"python\"\n",
        "print(\"I like \" + a)"
      ],
      "metadata": {
        "colab": {
          "base_uri": "https://localhost:8080/"
        },
        "id": "5LH6BLRc1Jmd",
        "outputId": "6f7ebd0b-3de6-4260-a015-d4ab4c1d71a5"
      },
      "execution_count": null,
      "outputs": [
        {
          "output_type": "stream",
          "name": "stdout",
          "text": [
            "I like python\n"
          ]
        }
      ]
    },
    {
      "cell_type": "code",
      "source": [
        "#this is a comment\n",
        "print(\"Hello friend. My name Vaidehi Nayakpura.\")"
      ],
      "metadata": {
        "colab": {
          "base_uri": "https://localhost:8080/"
        },
        "id": "Yt9jtqqZZmKi",
        "outputId": "612a8f5a-48aa-40de-f410-31ccf877d736"
      },
      "execution_count": null,
      "outputs": [
        {
          "output_type": "stream",
          "name": "stdout",
          "text": [
            "Hello friend. My name Vaidehi Nayakpura.\n"
          ]
        }
      ]
    },
    {
      "cell_type": "code",
      "source": [
        "\"\"\"This is a multiple line comment\"\"\"\n",
        "print(\"Hello friend. My name Vaidehi Nayakpura.\")"
      ],
      "metadata": {
        "colab": {
          "base_uri": "https://localhost:8080/"
        },
        "id": "C-TFn8OkaCC_",
        "outputId": "c9c922e6-aa0c-49f6-8114-b73c006acba2"
      },
      "execution_count": null,
      "outputs": [
        {
          "output_type": "stream",
          "name": "stdout",
          "text": [
            "Hello friend. My name Vaidehi Nayakpura.\n"
          ]
        }
      ]
    },
    {
      "cell_type": "code",
      "source": [
        "#single quote\n",
        "print(\"It\\'s alright.\")"
      ],
      "metadata": {
        "colab": {
          "base_uri": "https://localhost:8080/"
        },
        "id": "WqZ-4UM-aZg-",
        "outputId": "1bd48af6-ec59-4ed3-bbeb-06ce9cc9e7da"
      },
      "execution_count": null,
      "outputs": [
        {
          "output_type": "stream",
          "name": "stdout",
          "text": [
            "It's alright.\n"
          ]
        }
      ]
    },
    {
      "cell_type": "code",
      "source": [
        "#backslash mate\n",
        "print(\"C:\\\\Users\\\\Vaidehi\\\\Desktop\\\\Vaidehi\")"
      ],
      "metadata": {
        "colab": {
          "base_uri": "https://localhost:8080/"
        },
        "id": "CJvXhuLFaz4i",
        "outputId": "19ed7b33-c1be-4c91-8de5-2d162e7d7a08"
      },
      "execution_count": null,
      "outputs": [
        {
          "output_type": "stream",
          "name": "stdout",
          "text": [
            "C:\\Users\\Vaidehi\\Desktop\\Vaidehi\n"
          ]
        }
      ]
    },
    {
      "cell_type": "code",
      "source": [
        "#new line ma jase\n",
        "print(\"hello\\nworld\")"
      ],
      "metadata": {
        "colab": {
          "base_uri": "https://localhost:8080/"
        },
        "id": "hxu5_3kvbOB6",
        "outputId": "e8ea2f1e-bd46-410c-b574-52b1bcb5d791"
      },
      "execution_count": null,
      "outputs": [
        {
          "output_type": "stream",
          "name": "stdout",
          "text": [
            "hello\n",
            "world\n"
          ]
        }
      ]
    },
    {
      "cell_type": "code",
      "source": [
        "#remove karse e aagad na word ne\n",
        "print(\"hello\\rworld\")"
      ],
      "metadata": {
        "colab": {
          "base_uri": "https://localhost:8080/"
        },
        "id": "3I5Ubxrsbeur",
        "outputId": "fe8514df-df14-46a1-d6b2-57ba65d365e0"
      },
      "execution_count": null,
      "outputs": [
        {
          "output_type": "stream",
          "name": "stdout",
          "text": [
            "hello\rworld\n"
          ]
        }
      ]
    },
    {
      "cell_type": "code",
      "source": [
        "#tab\n",
        "print(\"hello\\tworld\")"
      ],
      "metadata": {
        "colab": {
          "base_uri": "https://localhost:8080/"
        },
        "id": "jcTPBIBtbwCY",
        "outputId": "f3bfad20-9569-4635-e07a-31120fa0e4ba"
      },
      "execution_count": null,
      "outputs": [
        {
          "output_type": "stream",
          "name": "stdout",
          "text": [
            "hello\tworld\n"
          ]
        }
      ]
    },
    {
      "cell_type": "code",
      "source": [
        "#backspace\n",
        "print(\"hello\\bworld\")"
      ],
      "metadata": {
        "colab": {
          "base_uri": "https://localhost:8080/"
        },
        "id": "GY8NwrYEb0gV",
        "outputId": "ba5c1b68-4cba-40d4-8a0f-9ae7337abbef"
      },
      "execution_count": null,
      "outputs": [
        {
          "output_type": "stream",
          "name": "stdout",
          "text": [
            "hello\bworld\n"
          ]
        }
      ]
    },
    {
      "cell_type": "code",
      "source": [
        "#form feed\n",
        "print(\"hello\\fWorld\")"
      ],
      "metadata": {
        "colab": {
          "base_uri": "https://localhost:8080/"
        },
        "id": "Nw8Jx-p_caze",
        "outputId": "2a394cbb-24a1-4a4b-a36f-bb845146eb4f"
      },
      "execution_count": null,
      "outputs": [
        {
          "output_type": "stream",
          "name": "stdout",
          "text": [
            "hello\fWorld\n"
          ]
        }
      ]
    },
    {
      "cell_type": "code",
      "source": [
        "#octal values\n",
        "print(\"\\101\\102\\103\\104\")"
      ],
      "metadata": {
        "colab": {
          "base_uri": "https://localhost:8080/"
        },
        "id": "G2mOyskZcw_r",
        "outputId": "f5b8caea-ccec-4968-ac6d-71ffb2631fbb"
      },
      "execution_count": 1,
      "outputs": [
        {
          "output_type": "stream",
          "name": "stdout",
          "text": [
            "ABCD\n"
          ]
        }
      ]
    },
    {
      "cell_type": "code",
      "source": [
        "#hexadecimal values\n",
        "print(\"\\x48\\x65\\x6c\\x6c\\x6f\")"
      ],
      "metadata": {
        "colab": {
          "base_uri": "https://localhost:8080/"
        },
        "id": "CCU2mmwYdFgs",
        "outputId": "8726276b-5343-4815-e263-14c3e3eee8da"
      },
      "execution_count": null,
      "outputs": [
        {
          "output_type": "stream",
          "name": "stdout",
          "text": [
            "Hello\n"
          ]
        }
      ]
    },
    {
      "cell_type": "code",
      "source": [],
      "metadata": {
        "id": "kiE7N9WycTqy"
      },
      "execution_count": null,
      "outputs": []
    }
  ]
}